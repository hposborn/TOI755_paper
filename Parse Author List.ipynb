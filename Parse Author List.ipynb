{
 "cells": [
  {
   "cell_type": "markdown",
   "metadata": {},
   "source": [
    "# Parsing author data from csv"
   ]
  },
  {
   "cell_type": "markdown",
   "metadata": {},
   "source": [
    "You will need the following in your LaTeX header for the hyperlinks and ORCiD symbols to work:\n",
    "```\n",
    "\\usepackage{graphicx}\t% Including figure files\n",
    "\\usepackage{amsmath}\t% Advanced maths commands\n",
    "\\usepackage{scalerel}\n",
    "\\usepackage{tikz}\n",
    "\\usetikzlibrary{svg.path}\n",
    "\n",
    "\\definecolor{orcidlogocol}{HTML}{A6CE39}\n",
    "\\tikzset{\n",
    "  orcidlogo/.pic={\n",
    "    \\fill[orcidlogocol] svg{M256,128c0,70.7-57.3,128-128,128C57.3,256,0,198.7,0,128C0,57.3,57.3,0,128,0C198.7,0,256,57.3,256,128z};\n",
    "    \\fill[white] svg{M86.3,186.2H70.9V79.1h15.4v48.4V186.2z}\n",
    "                 svg{M108.9,79.1h41.6c39.6,0,57,28.3,57,53.6c0,27.5-21.5,53.6-56.8,53.6h-41.8V79.1z M124.3,172.4h24.5c34.9,0,42.9-26.5,42.9-39.7c0-21.5-13.7-39.7-43.7-39.7h-23.7V172.4z}\n",
    "                 svg{M88.7,56.8c0,5.5-4.5,10.1-10.1,10.1c-5.6,0-10.1-4.6-10.1-10.1c0-5.6,4.5-10.1,10.1-10.1C84.2,46.7,88.7,51.3,88.7,56.8z};\n",
    "  }\n",
    "}\n",
    "\n",
    "\\newcommand\\orcidicon[1]{\\href{https://orcid.org/#1}{\\mbox{\\scalerel*{\n",
    "\\begin{tikzpicture}[xscale=0.1,yscale=-0.1,transform shape]\n",
    "\\pic{orcidlogo};\n",
    "\\end{tikzpicture}\n",
    "}{|}}}}\n",
    "\n",
    "\\usepackage{hyperref}   %Needs to be at the end for some reason\n",
    "```\n"
   ]
  },
  {
   "cell_type": "code",
   "execution_count": 2,
   "metadata": {},
   "outputs": [],
   "source": [
    "import pandas as pd\n",
    "import numpy as np"
   ]
  },
  {
   "cell_type": "code",
   "execution_count": 2,
   "metadata": {},
   "outputs": [],
   "source": [
    "second_author = True\n",
    "high_ranked_authors = np.arange(2,13)"
   ]
  },
  {
   "cell_type": "code",
   "execution_count": 22,
   "metadata": {},
   "outputs": [],
   "source": [
    "df=pd.read_csv(\"TOI 755 author list.tsv\",delimiter='\\t',comment='#')"
   ]
  },
  {
   "cell_type": "code",
   "execution_count": 4,
   "metadata": {},
   "outputs": [],
   "source": [
    "all_affils=[]\n",
    "df['N_AFFILS']=np.tile(-99,len(df))\n",
    "\n",
    "start_latex=\"\""
   ]
  },
  {
   "cell_type": "code",
   "execution_count": 5,
   "metadata": {},
   "outputs": [
    {
     "name": "stdout",
     "output_type": "stream",
     "text": [
      "\\hyperlink{affil_1}{1}\n",
      "\\hyperlink{affil_1}{1},\\hyperlink{affil_2}{2}\n"
     ]
    }
   ],
   "source": [
    "all_affils+=[df.loc[0,'AFFILIATION 1 (Latex-compatible)']]\n",
    "naffil=str(1)\n",
    "df.loc[0,'N_AFFILS']=\"\\\\hyperlink{affil_\"+naffil+\"}{\"+naffil+\"}\"\n",
    "print(df.loc[0,'N_AFFILS'])\n",
    "if not pd.isnull(df.loc[0,'AFFILIATION 2 (Latex-compatible)']):\n",
    "    all_affils+=[df.loc[0,'AFFILIATION 2 (Latex-compatible)']]\n",
    "    naffil=str(2)\n",
    "    df.loc[0,'N_AFFILS']+=\",\"+\"\\\\hyperlink{affil_\"+naffil+\"}{\"+naffil+\"}\"\n",
    "    print(df.loc[0,'N_AFFILS'])"
   ]
  },
  {
   "cell_type": "code",
   "execution_count": 6,
   "metadata": {},
   "outputs": [],
   "source": [
    "#First author info:\n",
    "start_latex+='\\\\author['+df.loc[0,'NAME']+\" et al.]{\"\n",
    "if not pd.isnull(df.loc[0,'ORCiD']):\n",
    "    orc=\",\\\\orcidicon{\"+str(df.loc[0,'ORCiD'])+\"}\"\n",
    "else:\n",
    "    orc=\"\"\n",
    "start_latex+='\\\\parbox{\\\\textwidth}{'+df.loc[0,'NAME']+'\\\\textsuperscript{'+df.loc[0,'N_AFFILS']+orc+'}\\\\thanks{E-mail: '+df.loc[0,\"EMAIL (optional)\"]+'}, \\n'"
   ]
  },
  {
   "cell_type": "code",
   "execution_count": 7,
   "metadata": {},
   "outputs": [],
   "source": [
    "if second_author:\n",
    "    #Creating affiliations:\n",
    "    if df.loc[1,'AFFILIATION 1 (Latex-compatible)'] in all_affils:\n",
    "        naffil=str(all_affils.index(df.loc[1,'AFFILIATION 1 (Latex-compatible)'])+1)\n",
    "        df.loc[1,'N_AFFILS']=\"\\\\hyperlink{affil_\"+naffil+\"}{\"+naffil+\"}\"\n",
    "    else:\n",
    "        naffil=str(len(all_affils)+1)\n",
    "        df.loc[1,'N_AFFILS']=\"\\\\hyperlink{affil_\"+naffil+\"}{\"+naffil+\"}\"\n",
    "        all_affils+=[df.loc[1,'AFFILIATION 1 (Latex-compatible)']]\n",
    "    if not pd.isnull(df.loc[1,'AFFILIATION 2 (Latex-compatible)']) and df.loc[1,'AFFILIATION 2 (Latex-compatible)'] in all_affils:\n",
    "        naffil=str(all_affils.index(df.loc[1,'AFFILIATION 2 (Latex-compatible)'])+1)\n",
    "        df.loc[1,'N_AFFILS']+=\",\"+\"\\\\hyperlink{affil_\"+naffil+\"}{\"+naffil+\"}\"\n",
    "    elif not pd.isnull(df.loc[1,'AFFILIATION 2 (Latex-compatible)']):\n",
    "        naffil=str(len(all_affils)+1)\n",
    "        df.loc[1,'N_AFFILS']+=\",\"+\"\\\\hyperlink{affil_\"+naffil+\"}{\"+naffil+\"}\"\n",
    "        all_affils+=[df.loc[1,'AFFILIATION 2 (Latex-compatible)']]\n",
    "    \n",
    "    #Making first name into initial:\n",
    "    if '.' not in df.loc[1,'NAME'].split(' ')[0]:\n",
    "        name=df.loc[1,'NAME'].split(' ')[0][0]+'. '+' '.join(df.loc[1,'NAME'].split(' ')[1:])\n",
    "    else:\n",
    "        name=df.loc[1,'NAME']\n",
    "    if len(name.split('. '))>2:\n",
    "        name='.'.join(name.split('. ')[:-1])+'. '+name.split('. ')[-1]\n",
    "    name=name.replace(' ','~')\n",
    "    \n",
    "    if not pd.isnull(df.loc[1,'ORCiD']):\n",
    "        orc=\",\\\\orcidicon{\"+str(df.loc[1,'ORCiD'])+\"}\"\n",
    "    else:\n",
    "        orc=\"\"\n",
    "    #second author info:\n",
    "    start_latex+=name+'\\\\textsuperscript{'+df.loc[1,'N_AFFILS']+orc+'}, %'\n",
    "    if not pd.isnull(df.loc[1,\"EMAIL (optional)\"]):\n",
    "        start_latex+=' '+df.loc[1,\"EMAIL (optional)\"]\n",
    "    if not pd.isnull(df.loc[1,\"CONTRIBUTION\"]):\n",
    "        start_latex+=' '+df.loc[1,\"CONTRIBUTION\"]\n",
    "    start_latex+='\\n'    "
   ]
  },
  {
   "cell_type": "code",
   "execution_count": 8,
   "metadata": {},
   "outputs": [],
   "source": [
    "#Initial alphabetical list:\n",
    "high_ranks=df.loc[high_ranked_authors]\n",
    "high_ranks=high_ranks.iloc[np.argsort([h.split(' ')[-1][0] for h in high_ranks['NAME']])]\n",
    "\n",
    "for n,auth in high_ranks.iterrows():\n",
    "    #Creating affiliations:\n",
    "    if auth['AFFILIATION 1 (Latex-compatible)'] in all_affils:\n",
    "        naffil=str(all_affils.index(auth['AFFILIATION 1 (Latex-compatible)'])+1)\n",
    "        df.loc[n,'N_AFFILS']=\"\\\\hyperlink{affil_\"+naffil+\"}{\"+naffil+\"}\"\n",
    "    else:\n",
    "        naffil=str(len(all_affils)+1)\n",
    "        df.loc[n,'N_AFFILS']=\"\\\\hyperlink{affil_\"+naffil+\"}{\"+naffil+\"}\"\n",
    "        all_affils+=[auth['AFFILIATION 1 (Latex-compatible)']]\n",
    "    if not pd.isnull(auth['AFFILIATION 2 (Latex-compatible)']) and auth['AFFILIATION 2 (Latex-compatible)'] in all_affils:\n",
    "        naffil=str(all_affils.index(auth['AFFILIATION 2 (Latex-compatible)'])+1)\n",
    "        df.loc[n,'N_AFFILS']+=\",\"+\"\\\\hyperlink{affil_\"+naffil+\"}{\"+naffil+\"}\"\n",
    "    elif not pd.isnull(auth['AFFILIATION 2 (Latex-compatible)']):\n",
    "        naffil=str(len(all_affils)+1)\n",
    "        df.loc[n,'N_AFFILS']+=\",\"+\"\\\\hyperlink{affil_\"+naffil+\"}{\"+naffil+\"}\"\n",
    "        all_affils+=[auth['AFFILIATION 2 (Latex-compatible)']]\n",
    "    \n",
    "    #Making first name into initial:\n",
    "    if '.' not in auth['NAME'].split(' ')[0]:\n",
    "        name=auth['NAME'].split(' ')[0][0]+'. '+' '.join(auth['NAME'].split(' ')[1:])\n",
    "    else:\n",
    "        name=auth['NAME']\n",
    "    if len(name.split('. '))>2:\n",
    "        name='.'.join(name.split('. ')[:-1])+'. '+name.split('. ')[-1]\n",
    "    name=name.replace(' ','~')\n",
    "    \n",
    "    #adding ORCiD:\n",
    "    if not pd.isnull(auth['ORCiD']):\n",
    "        orc=\",\\\\orcidicon{\"+str(auth['ORCiD'])+\"}\"\n",
    "    else:\n",
    "        orc=\"\"\n",
    "    \n",
    "    #adding author info to latex:\n",
    "    start_latex+=name+'\\\\textsuperscript{'+df.loc[n,'N_AFFILS']+orc+'}, %'\n",
    "    if not pd.isnull(auth[\"EMAIL (optional)\"]):\n",
    "        start_latex+=' '+auth[\"EMAIL (optional)\"]\n",
    "    if not pd.isnull(auth[\"CONTRIBUTION\"]):\n",
    "        start_latex+=' '+auth[\"CONTRIBUTION\"]\n",
    "    start_latex+='\\n'"
   ]
  },
  {
   "cell_type": "code",
   "execution_count": 9,
   "metadata": {},
   "outputs": [],
   "source": [
    "# The rest:\n",
    "low_ranks=df.loc[(1+high_ranked_authors[-1]):]\n",
    "low_ranks=low_ranks.iloc[np.argsort([h.split(' ')[-1][0] for h in low_ranks['NAME']])]\n",
    "\n",
    "for n,auth in low_ranks.iterrows():\n",
    "    #Creating affiliations:\n",
    "    if auth['AFFILIATION 1 (Latex-compatible)'] in all_affils:\n",
    "        naffil=str(all_affils.index(auth['AFFILIATION 1 (Latex-compatible)'])+1)\n",
    "        df.loc[n,'N_AFFILS']=\"\\\\hyperlink{affil_\"+naffil+\"}{\"+naffil+\"}\"\n",
    "    else:\n",
    "        naffil=str(len(all_affils)+1)\n",
    "        df.loc[n,'N_AFFILS']=\"\\\\hyperlink{affil_\"+naffil+\"}{\"+naffil+\"}\"\n",
    "        all_affils+=[auth['AFFILIATION 1 (Latex-compatible)']]\n",
    "    if not pd.isnull(auth['AFFILIATION 2 (Latex-compatible)']) and auth['AFFILIATION 2 (Latex-compatible)'] in all_affils:\n",
    "        naffil=str(all_affils.index(auth['AFFILIATION 2 (Latex-compatible)'])+1)\n",
    "        df.loc[n,'N_AFFILS']+=\",\"+\"\\\\hyperlink{affil_\"+naffil+\"}{\"+naffil+\"}\"\n",
    "    elif not pd.isnull(auth['AFFILIATION 2 (Latex-compatible)']):\n",
    "        naffil=str(len(all_affils)+1)\n",
    "        df.loc[n,'N_AFFILS']+=\",\"+\"\\\\hyperlink{affil_\"+naffil+\"}{\"+naffil+\"}\"\n",
    "        all_affils+=[auth['AFFILIATION 2 (Latex-compatible)']]\n",
    "    \n",
    "    #Making first name into initial:\n",
    "    if '.' not in auth['NAME'].split(' ')[0]:\n",
    "        name=auth['NAME'].split(' ')[0][0]+'. '+' '.join(auth['NAME'].split(' ')[1:])\n",
    "    else:\n",
    "        name=auth['NAME']\n",
    "    if len(name.split('. '))>2:\n",
    "        name='.'.join(name.split('. ')[:-1])+'. '+name.split('. ')[-1]\n",
    "    name=name.replace(' ','~')\n",
    "        \n",
    "    #adding ORCiD:\n",
    "    if not pd.isnull(auth['ORCiD']):\n",
    "        orc=\",\\\\orcidicon{\"+str(auth['ORCiD'])+\"}\"\n",
    "    else:\n",
    "        orc=\"\"\n",
    "    \n",
    "    #adding author info to latex:\n",
    "    start_latex+=name+'\\\\textsuperscript{'+df.loc[n,'N_AFFILS']+orc+'}, %'\n",
    "    if not pd.isnull(auth[\"EMAIL (optional)\"]):\n",
    "        start_latex+=' '+auth[\"EMAIL (optional)\"]\n",
    "    if not pd.isnull(auth[\"CONTRIBUTION\"]):\n",
    "        start_latex+=' '+auth[\"CONTRIBUTION\"]\n",
    "    start_latex+='\\n'\n"
   ]
  },
  {
   "cell_type": "code",
   "execution_count": 10,
   "metadata": {},
   "outputs": [],
   "source": [
    "start_latex+=\"}\\\\\\\\\\n\\\\vspace{0.4cm}\\n\\\\parbox{\\\\textwidth}{\\nThe authors' affiliations are shown in Appendix \\\\ref{sec:affiliations}.}\\n}\""
   ]
  },
  {
   "cell_type": "code",
   "execution_count": 11,
   "metadata": {
    "scrolled": false
   },
   "outputs": [
    {
     "name": "stdout",
     "output_type": "stream",
     "text": [
      "\\author[H.P. Osborn et al.]{\\parbox{\\textwidth}{H.P. Osborn\\textsuperscript{\\hyperlink{affil_1}{1},\\hyperlink{affil_2}{2},\\orcidicon{0000-0002-4047-4724}}\\thanks{E-mail: hugh.osborn@space.unibe.ch}, \n",
      "D.J.~Armstrong\\textsuperscript{\\hyperlink{affil_3}{3},\\hyperlink{affil_4}{4},\\orcidicon{0000-0002-5080-4117}}, % d.j.armstrong@warwick.ac.uk HARPS NCORES PI\n",
      "V.~Adibekyan\\textsuperscript{\\hyperlink{affil_5}{5},\\orcidicon{0000-0002-0601-6199}}, % Vardan.Adibekyan@astro.up.pt Stellar abundances and ages\n",
      "K.A.~Collins\\textsuperscript{\\hyperlink{affil_6}{6},\\orcidicon{0000-0001-6588-9574}}, % karen.collins@cfa.harvard.edu SG1 coordination and data analysis\n",
      "E.~Delgado-Mena\\textsuperscript{\\hyperlink{affil_5}{5},\\orcidicon{0000-0003-4434-2195}}, % elisa.delgado@astro.up.pt Stellar abundances and ages\n",
      "S.B.~Howell\\textsuperscript{\\hyperlink{affil_7}{7},\\orcidicon{0000-0002-2532-2853}}, % steve.b.howell@nasa.gov Speckle observing, data reduction, analysis\n",
      "C.~Hellier\\textsuperscript{\\hyperlink{affil_8}{8},\\orcidicon{0000-0002-3439-1439}}, % c.hellier@keele.ac.uk WASP archival photometry\n",
      "G.W.~King\\textsuperscript{\\hyperlink{affil_3}{3},\\hyperlink{affil_4}{4},\\orcidicon{0000-0002-3641-6636}}, % G.King.7@warwick.ac.uk Evaporation calculations\n",
      "J.~Lillo-Box\\textsuperscript{\\hyperlink{affil_9}{9},\\orcidicon{0000-0003-3742-1987}}, % jlillo@cab.inta-csic.es NCORES contributor, TPF plot\n",
      "L.D.~Nielsen\\textsuperscript{\\hyperlink{affil_10}{10},\\orcidicon{0000-0002-5254-2499}}, % louise.nielsen@unige.ch HARPS observations + data reduction, RV consulation\n",
      "J.F.~Otegi\\textsuperscript{\\hyperlink{affil_10}{10}}, % jonfr17@gmail.com Internal structure models\n",
      "N.C.~Santos\\textsuperscript{\\hyperlink{affil_5}{5},\\hyperlink{affil_11}{11},\\orcidicon{0000-0003-4422-2919}}, % nuno.santos@astro.up.pt HARPS stellar analysis\n",
      "C.~Ziegler\\textsuperscript{\\hyperlink{affil_12}{12}}, % carl.ziegler@dunlap.utoronto.ca SOAR speckle imaging PI\n",
      "D.R.~Anderson\\textsuperscript{\\hyperlink{affil_3}{3},\\hyperlink{affil_4}{4},\\orcidicon{0000-0002-0328-1640}}, % David.R.Anderson@warwick.ac.uk WASP archival photometry\n",
      "C.~Brice\\~{n}o\\textsuperscript{\\hyperlink{affil_13}{13},\\orcidicon{0000-0001-7124-4094}}, % cbriceno@ctio.noao.edu SOAR speckle imaging\n",
      "C.~Burke\\textsuperscript{\\hyperlink{affil_2}{2},\\orcidicon{0000-0002-7754-9486}}, % cjburke@mit.edu POC contributor\n",
      "D.~Bayliss\\textsuperscript{\\hyperlink{affil_4}{4},\\hyperlink{affil_3}{3},\\orcidicon{0000-0001-6023-1335}}, % d.bayliss@warwick.ac.uk NCORES contributor\n",
      "D.~Barrado\\textsuperscript{\\hyperlink{affil_9}{9},\\orcidicon{0000-0002-5971-9242}}, % barrado@cab.inta-csic.es NCORES observer\n",
      "E.M.~Bryant\\textsuperscript{\\hyperlink{affil_4}{4},\\hyperlink{affil_3}{3},\\orcidicon{0000-0001-7904-4441}}, % edward.bryant@warwick.ac.uk NCORES contributor\n",
      "D.J.A.~Brown\\textsuperscript{\\hyperlink{affil_3}{3},\\hyperlink{affil_4}{4},\\orcidicon{0000-0003-1098-2442}}, % d.j.a.brown@warwick.ac.uk NCORES contributor\n",
      "S.C.C.~Barros\\textsuperscript{\\hyperlink{affil_5}{5},\\hyperlink{affil_11}{11},\\orcidicon{0000-0003-2434-3625}}, % susana.barros@astro.up.pt NCORES contributor\n",
      "F.~Bouchy\\textsuperscript{\\hyperlink{affil_10}{10},\\orcidicon{0000-0002-7613-393X}}, % françois.bouchy@unige.ch HARPS coordination\n",
      "D.A.~Caldwell\\textsuperscript{\\hyperlink{affil_14}{14},\\orcidicon{0000-0003-1963-9616}}, % douglas.a.caldwell@nasa.gov SPOC contributor\n",
      "D.M.~Conti\\textsuperscript{\\hyperlink{affil_15}{15},\\orcidicon{0000-0003-2239-0567}}, % dennis@astrodennis.com SG1 data analysis\n",
      "R.F.~Díaz\\textsuperscript{\\hyperlink{affil_16}{16},\\orcidicon{0000-0001-9289-5160}}, % rdiaz@unsam.edu.ar NCORES contributor\n",
      "D.~Dragomir\\textsuperscript{\\hyperlink{affil_17}{17},\\orcidicon{0000-0003-2313-467X}}, % dragomir@unm.edu TSO contributor\n",
      "M.~Deleuil\\textsuperscript{\\hyperlink{affil_18}{18},\\orcidicon{0000-0001-6036-0225}}, % magali.deleuil@lam.fr NCORES contributor\n",
      "O.D.S.~Demangeon\\textsuperscript{\\hyperlink{affil_5}{5},\\hyperlink{affil_11}{11},\\orcidicon{0000-0001-7918-0355}}, % olivier.demangeon@astro.up.pt NCORES contributor\n",
      "C.~Dorn\\textsuperscript{\\hyperlink{affil_19}{19},\\orcidicon{0000-0001-6110-4610}}, % cdorn@physik.uzh.ch Internal structure models\n",
      "T.~Daylan\\textsuperscript{\\hyperlink{affil_2}{2},\\hyperlink{affil_20}{20},\\orcidicon{0000-0002-6939-9211}}, % tdaylan@mit.edu POC contributor\n",
      "P.~Figueira\\textsuperscript{\\hyperlink{affil_21}{21},\\hyperlink{affil_5}{5},\\orcidicon{0000-0001-8504-283X}}, % pedro.figueira@eso.org NCORES contributor\n",
      "R.~Helled\\textsuperscript{\\hyperlink{affil_19}{19},\\orcidicon{0000-0001-5555-2652}}, % r.helled@gmail.com Internal structure models\n",
      "S.~Hoyer\\textsuperscript{\\hyperlink{affil_18}{18},\\orcidicon{0000-0003-3477-2466}}, % sergio.hoyer@lam.fr NCORES contributor\n",
      "J.M.~Jenkins\\textsuperscript{\\hyperlink{affil_7}{7},\\orcidicon{0000-0002-4715-9460}}, % jon.jenkins@nasa.gov TESS architect\n",
      "E.L.N.~Jensen\\textsuperscript{\\hyperlink{affil_22}{22},\\orcidicon{0000-0002-4625-7333}}, % ejensen1@swarthmore.edu SG1 coordination and observations\n",
      "D.W.~Latham\\textsuperscript{\\hyperlink{affil_6}{6},\\orcidicon{0000-0001-9911-7388}}, % dlatham@cfa.harvard.edu TESS architect\n",
      "N.~Law\\textsuperscript{\\hyperlink{affil_23}{23}}, % nmlaw@physics.unc.edu SOAR speckle imaging\n",
      "D.R.~Louie\\textsuperscript{\\hyperlink{affil_24}{24},\\orcidicon{0000-0002-2457-272X}}, % danalouie@astro.umd.edu TSO contributor\n",
      "A.W.~Mann\\textsuperscript{\\hyperlink{affil_23}{23},\\orcidicon{0000-0003-3654-1602}}, % awmann@unc.edu SOAR speckle imaging\n",
      "A.~Osborn\\textsuperscript{\\hyperlink{affil_4}{4},\\hyperlink{affil_3}{3},\\orcidicon{0000-0002-5899-7750}}, % e.osborn@warwick.ac.uk NCORES observer\n",
      "D.L.~Pollacco\\textsuperscript{\\hyperlink{affil_4}{4},\\orcidicon{0000-0001-9850-9697}}, % don.pollacco@warwick.ac.uk NCORES contributor\n",
      "D.R.~Rodriguez\\textsuperscript{\\hyperlink{affil_25}{25},\\orcidicon{0000-0003-1286-5231}}, % drodriguez@stsci.edu MAST contributor\n",
      "B.V.~Rackham\\textsuperscript{\\hyperlink{affil_2}{2},\\hyperlink{affil_26}{26},\\orcidicon{0000-0002-3627-1676}}, % brackham@mit.edu TSO contributor\n",
      "G.~Ricker\\textsuperscript{\\hyperlink{affil_2}{2},\\orcidicon{0000-0003-2058-6662}}, % grr@space.mit.edu TESS architect\n",
      "N.~Scott\\textsuperscript{\\hyperlink{affil_7}{7}}, % nic.scott.9@gmail.com Speckle observing, data reduction, analysis\n",
      "S.G.~Sousa\\textsuperscript{\\hyperlink{affil_5}{5},\\orcidicon{0000-0001-9047-2965}}, % sergio.sousa@astro.up.pt NCORES contributor\n",
      "S.~Seager\\textsuperscript{\\hyperlink{affil_2}{2},\\hyperlink{affil_26}{26},\\orcidicon{0000-0002-6892-6948}}, % seager@mit.edu TESS architect\n",
      "K.G.~Stassun\\textsuperscript{\\hyperlink{affil_27}{27},\\orcidicon{0000-0002-3481-9052}}, % keivan.stassun@vanderbilt.edu SED analysis\n",
      "J.C.~Smith\\textsuperscript{\\hyperlink{affil_14}{14},\\orcidicon{0000-0002-6148-7903}}, % jsmith@seti.org SPOC contributor\n",
      "P.~Str\\o{}m\\textsuperscript{\\hyperlink{affil_4}{4},\\hyperlink{affil_3}{3},\\orcidicon{0000-0002-7823-1090}}, % paul.strom@warwick.ac.uk NCORES contributor\n",
      "S.~Udry\\textsuperscript{\\hyperlink{affil_10}{10},\\orcidicon{0000-0001-7576-6236}}, % stephane.udry@unige.ch  NCORES contributor\n",
      "J.~Villaseñor\\textsuperscript{\\hyperlink{affil_2}{2},\\orcidicon{0000-0002-4625-8264}}, % jsvilla@space.mit.edu POC contributor\n",
      "R.~Vanderspek\\textsuperscript{\\hyperlink{affil_2}{2},\\orcidicon{0000-0001-6763-6562}}, % roland@space.mit.edu TESS architect\n",
      "R.~West\\textsuperscript{\\hyperlink{affil_3}{3},\\hyperlink{affil_4}{4}}, % Richard.West@warwick.ac.uk WASP archival photometry\n",
      "P.J.~Wheatley\\textsuperscript{\\hyperlink{affil_3}{3},\\hyperlink{affil_4}{4},\\orcidicon{0000-0003-1452-2240}}, % P.J.Wheatley@warwick.ac.uk NCORES contributor\n",
      "J.N.~Winn\\textsuperscript{\\hyperlink{affil_28}{28},\\orcidicon{0000-0002-4265-047X}}, % jnwinn@princeton.edu TESS architect\n",
      "}\\\\\n",
      "\\vspace{0.4cm}\n",
      "\\parbox{\\textwidth}{\n",
      "The authors' affiliations are shown in Appendix \\ref{sec:affiliations}.}\n",
      "}\n"
     ]
    }
   ],
   "source": [
    "print(start_latex)"
   ]
  },
  {
   "cell_type": "code",
   "execution_count": 12,
   "metadata": {},
   "outputs": [],
   "source": [
    "aff_box=\"\""
   ]
  },
  {
   "cell_type": "code",
   "execution_count": 13,
   "metadata": {},
   "outputs": [],
   "source": [
    "for n,row in enumerate(all_affils):\n",
    "    aff_box+=\"\\\\textsuperscript{\\\\hypertarget{affil_\"+str(n+1)+\"}{\"+str(n+1)+\"}} \"\n",
    "    aff_box+=row\n",
    "    if row[-2]!='\\\\':\n",
    "        aff_box+=\"\\\\\\\\\"\n",
    "    aff_box+=\"\\n\""
   ]
  },
  {
   "cell_type": "code",
   "execution_count": 14,
   "metadata": {},
   "outputs": [
    {
     "name": "stdout",
     "output_type": "stream",
     "text": [
      "\\textsuperscript{\\hypertarget{affil_1}{1}} NCCR/PlanetS, Centre for Space \\& Habitability, University of Bern, Bern, Switzerland\\\\\n",
      "\\textsuperscript{\\hypertarget{affil_2}{2}} Department of Physics and Kavli Institute for Astrophysics and Space Research, Massachusetts Institute of Technology, Cambridge, MA 02139, USA\\\\\n",
      "\\textsuperscript{\\hypertarget{affil_3}{3}} Centre for Exoplanets and Habitability, University of Warwick, Gibbet Hill Road, Coventry, CV4 7AL, UK\\\\\n",
      "\\textsuperscript{\\hypertarget{affil_4}{4}} Department of Physics, University of Warwick, Gibbet Hill Road, Coventry CV4 7AL, UK\\\\\n",
      "\\textsuperscript{\\hypertarget{affil_5}{5}} Instituto de Astrof\\'isica e Ci\\^encias do Espa\\c{c}o, Universidade do Porto, CAUP, Rua das Estrelas, 4150-762 Porto, Portugal\\\\\n",
      "\\textsuperscript{\\hypertarget{affil_6}{6}} Harvard-Smithsonian Center for Astrophysics, 60 Garden St, Cambridge, MA, 02138, USA\\\\\n",
      "\\textsuperscript{\\hypertarget{affil_7}{7}} NASA Ames Research Center,Moffett Field, CA 94035, USA\\\\\n",
      "\\textsuperscript{\\hypertarget{affil_8}{8}} Astrophysics Group, Keele University, Staffs ST5 5BG, U.K. \\\\\n",
      "\\textsuperscript{\\hypertarget{affil_9}{9}} Centro de Astrobiologi\\'ia (CAB,CSIC-INTA), Dep. de Astrof\\'isica, ESAC campus, 28692, Villanueva de la Ca\\~nada, Madrid, Spain\\\\\n",
      "\\textsuperscript{\\hypertarget{affil_10}{10}} Geneva Observatory, University of Geneva, Chemin des Mailettes 51, 1290 Versoix, Switzerland\\\\\n",
      "\\textsuperscript{\\hypertarget{affil_11}{11}} Departamento de F\\'isica e Astronomia, Faculdade de Ci\\^{e}ncias, Universidade do Porto, Rua do Campo Alegre, 4169-007 Porto, Portugal\\\\\n",
      "\\textsuperscript{\\hypertarget{affil_12}{12}} Dunlap Institute for Astronomy and Astrophysics, University of Toronto, 50 St. George Street, Toronto, Ontario M5S 3H4, Canada\\\\\n",
      "\\textsuperscript{\\hypertarget{affil_13}{13}} Cerro Tololo Inter-American Observatory, Casilla 603, La Serena, Chile\\\\\n",
      "\\textsuperscript{\\hypertarget{affil_14}{14}} SETI Institute\\\\\n",
      "\\textsuperscript{\\hypertarget{affil_15}{15}} American Association of Variable Star Observers, 49 Bay State Road, Cambridge, MA 02138, USA\\\\\n",
      "\\textsuperscript{\\hypertarget{affil_16}{16}} International Center for Advanced Studies (ICAS) and ICIFI (CONICET), ECyT-UNSAM, Campus Miguelete, 25 de Mayo y Francia, (1650) Buenos Aires, Argentina.\\\\\n",
      "\\textsuperscript{\\hypertarget{affil_17}{17}} Department of Physics and Astronomy, University of New Mexico, 1919 Lomas Blvd NE, Albuquerque, NM 87131, USA\\\\\n",
      "\\textsuperscript{\\hypertarget{affil_18}{18}} Aix Marseille Univ, CNRS, CNES, LAM, Marseille, France\\\\\n",
      "\\textsuperscript{\\hypertarget{affil_19}{19}} Institute for Computational Science, University of Zurich,Winterthurerstr. 190, CH-8057 Zurich, Switzerland\\\\\n",
      "\\textsuperscript{\\hypertarget{affil_20}{20}} Kavli Fellow\\\\\n",
      "\\textsuperscript{\\hypertarget{affil_21}{21}} European Southern Observatory, Alonso de Cordova 3107, Vitacura, Santiago, Chile\\\\\n",
      "\\textsuperscript{\\hypertarget{affil_22}{22}} Department of Physics \\& Astronomy, Swarthmore College, Swarthmore PA 19081, USA\\\\\n",
      "\\textsuperscript{\\hypertarget{affil_23}{23}} Department of Physics and Astronomy, The University of North Carolina at Chapel Hill, Chapel Hill, NC 27599-3255, USA\\\\\n",
      "\\textsuperscript{\\hypertarget{affil_24}{24}} Department of Astronomy, University of Maryland, College Park, MD 20742, USA\\\\\n",
      "\\textsuperscript{\\hypertarget{affil_25}{25}} Space Telescope Science Institute, 3700 San Martin Drive, Baltimore, MD 21218, USA\\\\\n",
      "\\textsuperscript{\\hypertarget{affil_26}{26}} Department of Earth, Atmospheric and Planetary Sciences, Massachusetts Institute of Technology, Cambridge, MA 02139, USA\\\\\n",
      "\\textsuperscript{\\hypertarget{affil_27}{27}} Department of Physics \\& Astronomy, Vanderbilt University, 6301 Stevenson Center Ln., Nashville, TN 37235, USA\\\\\n",
      "\\textsuperscript{\\hypertarget{affil_28}{28}} Department of Astrophysical Sciences, Princeton University, 4 Ivy Lane, Princeton, NJ 08544, USA\\\\\n",
      "\n"
     ]
    }
   ],
   "source": [
    "print(aff_box)"
   ]
  },
  {
   "cell_type": "code",
   "execution_count": 15,
   "metadata": {},
   "outputs": [
    {
     "name": "stdout",
     "output_type": "stream",
     "text": [
      "DJA acknowledges support from the STFC via an Ernest Rutherford Fellowship (ST/R00384X/1).\\\\ %D.J. Armstrong\n",
      "This study is based on observations collected at the European Southern Observatory under ESO programme 1102.C-0249.\\\\ %L.D. Nielsen\n",
      "This work makes use of observations from the LCOGT network.\\\\ %Karen A. Collins\n",
      "V.A., E.D.M., N.C.S. acknowledge support by FCT - Funda\\\\ %V. Adibekyan\n",
      "V.A. and E.D.M. further acknowledge the support from FCT through Investigador FCT contracts IF/00650/2015/CP1273/CT0001 and IF/00849/2015/CP1273/CT0003.\\\\ %E. Delgado-Mena\n",
      "(Some of the) Observations in the paper made use of the High-Resolution Imaging instrument(s) ‘Alopeke (and/or Zorro). ‘Alopeke (and/or Zorro) was funded by the NASA Exoplanet Exploration Program and built at the NASA Ames Research Center by Steve B. Howell, Nic Scott, Elliott P. Horch, and Emmett Quigley. Data were reduced using a software pipeline originally written by Elliott Horch and Mark Everett. ‘Alopeke (and/or Zorro) was mounted on the Gemini North (and/or South) telescope of the international Gemini Observatory, a program of NSF’s OIR Lab, which is managed by the Association of Universities for Research in Astronomy (AURA) under a cooperative agreement with the National Science Foundation. on behalf of the Gemini partnership: the National Science Foundation (United States), National Research Council (Canada), Agencia Nacional de Investigación y Desarrollo (Chile), Ministerio de Ciencia, Tecnología e Innovación (Argentina), Ministério da Ciência, Tecnologia, Inovações e Comunicações (Brazil), and Korea Astronomy and Space Science Institute (Republic of Korea).\\\\ %S. B. Howell\n",
      "This research has been funded by the Spanish State Research Agency (AEI) Projects No.ESP2017-87676-C5-1-R and No. MDM-2017-0737 Unidad de Excelencia \"Mar\\\\ %J. Lillo-Box\n",
      "Based in part on observations obtained at the Southern Astrophysical Research (SOAR) telescope, which is a joint project of the Minist\\\\ %C. Brice\\~{n}o\n",
      "D. D. acknowledges support from the TESS Guest Investigator Program grant 80NSSC19K1727 and NASA Exoplanet Research Program grant 18-2XRP18_2-0136.\\\\ %Diana Dragomir\n",
      "B.V.R. thanks the Heising-Simons Foundation for support.\\\\ %Benjamin V. Rackham\n",
      "TD acknowledges support from MIT's Kavli Institute as a Kavli postdoctoral fellow\\\\ %Tansu Daylan\n",
      "AO acknowledges support from an STFC studentship.\\\\ %Ares Osborn\n",
      "SH acknowledges CNES funding through the grant 837319\\\\ %S. Hoyer\n",
      "This work was supported by Fundação para a Ciência e a Tecnologia (FCT) and Fundo Europeu de Desenvolvimento Regional (FEDER) via COMPETE2020 through the research grants UIDB/04434/2020, UIDP/04434/2020, PTDC/FIS-AST/32113/2017 \\\\ %Olivier D. S. Demangeon\n",
      "This work was supported by Fundação para a Ciência e a Tecnologia (FCT) and Fundo Europeu de Desenvolvimento Regional (FEDER) via COMPETE2020 through the research grants UIDB/04434/2020, UIDP/04434/2020, PTDC/FIS-AST/32113/2017 \\\\ %Susana C.C. Barros\n",
      "DJAB acknowledges support by the UK Space Agency.\\\\ %D. J. A. Brown\n"
     ]
    }
   ],
   "source": [
    "acks=[]\n",
    "for n,row in df.iterrows():\n",
    "    if type(row['ACKNOWLEDGEMENT (Latex-compatible)'])==str:\n",
    "        ack=row['ACKNOWLEDGEMENT (Latex-compatible)']\n",
    "        ack=ack.split('\\\\')[0] if '\\\\' in ack else ack \n",
    "        acks+=[ack+\"\\\\\\\\ %\"+row['NAME']]\n",
    "print('\\n'.join(acks))"
   ]
  },
  {
   "cell_type": "code",
   "execution_count": null,
   "metadata": {},
   "outputs": [],
   "source": []
  },
  {
   "cell_type": "code",
   "execution_count": null,
   "metadata": {},
   "outputs": [],
   "source": []
  },
  {
   "cell_type": "code",
   "execution_count": null,
   "metadata": {},
   "outputs": [],
   "source": []
  },
  {
   "cell_type": "code",
   "execution_count": null,
   "metadata": {},
   "outputs": [],
   "source": []
  },
  {
   "cell_type": "code",
   "execution_count": null,
   "metadata": {},
   "outputs": [],
   "source": []
  },
  {
   "cell_type": "code",
   "execution_count": null,
   "metadata": {},
   "outputs": [],
   "source": []
  }
 ],
 "metadata": {
  "kernelspec": {
   "display_name": "Python 3",
   "language": "python",
   "name": "python3"
  },
  "language_info": {
   "codemirror_mode": {
    "name": "ipython",
    "version": 3
   },
   "file_extension": ".py",
   "mimetype": "text/x-python",
   "name": "python",
   "nbconvert_exporter": "python",
   "pygments_lexer": "ipython3",
   "version": "3.7.3"
  }
 },
 "nbformat": 4,
 "nbformat_minor": 4
}
